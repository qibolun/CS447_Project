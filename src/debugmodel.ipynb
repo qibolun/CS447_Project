{
 "cells": [
  {
   "cell_type": "code",
   "execution_count": 1,
   "metadata": {},
   "outputs": [
    {
     "name": "stderr",
     "output_type": "stream",
     "text": [
      "Using TensorFlow backend.\n"
     ]
    }
   ],
   "source": [
    "import random\n",
    "\n",
    "from const import *\n",
    "from dataProcess import *\n",
    "from keras.models import Sequential\n",
    "from keras.layers import LSTM\n",
    "from keras.layers.core import Dense\n",
    "\n",
    "\n",
    "\n",
    "def buildModel(loadParamFromFile = False):\n",
    "    model = Sequential()\n",
    "    model.add(LSTM(4, input_shape=(2, 2), return_sequences=True))\n",
    "    for i in range(DEPTH):\n",
    "        model.add(LSTM(8, return_sequences=True))\n",
    "    model.add(LSTM(2, return_sequences=True))\n",
    "    model.summary()\n",
    "    model.compile(optimizer='rmsprop',loss='mse')\n",
    "    if loadParamFromFile:\n",
    "        model.load_weights(MODELFILE)\n",
    "    return model\n",
    "\n",
    "\n",
    "def composeRap(bars, rhymes, model):\n",
    "    originalBars = getAllBars(LYRICSFILE)\n",
    "    startingIdx = random.randint(0, len(originalBars)-2)\n",
    "    # Randomly pick two lines from original lyrics as starting point\n",
    "    startingLines = originalBars[startingIdx:startingIdx+2]\n",
    "\n",
    "    startingVector = []\n",
    "    for bar in startingLines:\n",
    "        startingVector.append((syllables(bar), ryhmeIndex(bar, rhymes)))\n",
    "    # Generate True starting point\n",
    "    startingVector = model.predict(np.array([startingVector]).flatten().reshape(1,2,2))\n",
    "    rapVector = [startingVector]\n",
    "    for i in range(100):\n",
    "        rapVector.append(model.predict(np.array([rapVector[-1]]).flatten().reshape(1,2,2)))\n",
    "\n",
    "    return rapVector\n",
    "\n",
    "\n",
    "def calculatePenalty(bars, standardLine, penaltyIndex=0.2):\n",
    "    # calculate the penalty score last word of all bars deviate from standline\n",
    "    penalty = 0\n",
    "    standardWord = standardLine.strip('?!,.').split(\" \")[-1]\n",
    "    for bar in bars:\n",
    "        lastWord = bar.strip('?!,.').split(\" \")[-1]\n",
    "        if lastWord == standardWord:\n",
    "            penalty += penaltyIndex\n",
    "    return penalty\n",
    "\n",
    "\n",
    "def calculateScore(vector, syllables, rhyme, rhymeListLen, penalty):\n",
    "    if not rhyme:\n",
    "        rhyme = 0.0\n",
    "    desiredSyllables = float(vector[0]) * MAXSYLLABLES\n",
    "    desiredRhyme = float(vector[1]) * rhymeListLen\n",
    "    return 1.0 - (abs(desiredSyllables - float(syllables)) +\n",
    "                  abs(desiredRhyme - float(rhyme))) - penalty\n",
    "\n",
    "\n",
    "def convertVectorToSong(rapVector, generatedLyrics, rhymes):\n",
    "    generatedData = []\n",
    "    rhymeListLen = len(rhymes)\n",
    "    for bar in generatedLyrics:\n",
    "        generatedData.append([bar, syllables(bar), ryhmeIndex(bar, rhymes)])\n",
    "\n",
    "    rap = []\n",
    "    unfoldVector = []\n",
    "    for vector in rapVector:\n",
    "        unfoldVector.append(list(vector[0][0]))\n",
    "        unfoldVector.append(list(vector[0][1]))\n",
    "\n",
    "    for vector in unfoldVector:\n",
    "        scoreList = []\n",
    "        for bar, syllable, rhymeindex in generatedData:\n",
    "            if len(rap) != 0:\n",
    "                penalty = calculatePenalty(rap, bar)\n",
    "            else:\n",
    "                penalty = 0\n",
    "            totalScore = calculateScore(vector, syllable, rhymeindex, rhymeListLen, penalty)\n",
    "            scoreList.append([bar, totalScore])\n",
    "\n",
    "\n",
    "        maxScore = max([float(score[1]) for score in scoreList])\n",
    "        for bar, score in scoreList:\n",
    "            if score == maxScore:\n",
    "                rap.append(bar)\n",
    "                for data in generatedData:\n",
    "                    if bar == data[0]:\n",
    "                        generatedData.remove(data)\n",
    "                        break\n",
    "                break\n",
    "    return rap\n",
    "\n",
    "\n",
    "def train(x_data, y_data, model):\n",
    "    model.fit(np.array(x_data), np.array(y_data),\n",
    "              batch_size=2,\n",
    "              epochs=10,\n",
    "              verbose=1)\n",
    "    model.save_weights(MODELFILE)\n"
   ]
  },
  {
   "cell_type": "code",
   "execution_count": 2,
   "metadata": {},
   "outputs": [
    {
     "name": "stdout",
     "output_type": "stream",
     "text": [
      "_________________________________________________________________\n",
      "Layer (type)                 Output Shape              Param #   \n",
      "=================================================================\n",
      "lstm_1 (LSTM)                (None, 2, 4)              112       \n",
      "_________________________________________________________________\n",
      "lstm_2 (LSTM)                (None, 2, 8)              416       \n",
      "_________________________________________________________________\n",
      "lstm_3 (LSTM)                (None, 2, 8)              544       \n",
      "_________________________________________________________________\n",
      "lstm_4 (LSTM)                (None, 2, 8)              544       \n",
      "_________________________________________________________________\n",
      "lstm_5 (LSTM)                (None, 2, 8)              544       \n",
      "_________________________________________________________________\n",
      "lstm_6 (LSTM)                (None, 2, 2)              88        \n",
      "=================================================================\n",
      "Total params: 2,248\n",
      "Trainable params: 2,248\n",
      "Non-trainable params: 0\n",
      "_________________________________________________________________\n"
     ]
    }
   ],
   "source": [
    "model = buildModel(loadParamFromFile=False)"
   ]
  },
  {
   "cell_type": "code",
   "execution_count": 3,
   "metadata": {},
   "outputs": [],
   "source": [
    "bars = getAllBars(LYRICSFILE)\n",
    "rhymes = getAllRhyme(bars, readFromFile=True)"
   ]
  },
  {
   "cell_type": "code",
   "execution_count": 4,
   "metadata": {},
   "outputs": [],
   "source": [
    "xData, yData = buildDataSet(bars, rhymes)"
   ]
  },
  {
   "cell_type": "code",
   "execution_count": 5,
   "metadata": {},
   "outputs": [
    {
     "data": {
      "text/plain": [
       "array([[[ 0.        ,  0.63179916],\n",
       "        [ 0.        ,  0.16317992]],\n",
       "\n",
       "       [[ 0.        ,  0.77405858],\n",
       "        [ 0.        ,  0.29707113]],\n",
       "\n",
       "       [[ 0.        ,  0.16317992],\n",
       "        [ 0.        ,  0.82008368]],\n",
       "\n",
       "       ..., \n",
       "       [[ 1.        ,  0.53138075],\n",
       "        [ 0.        ,  0.17573222]],\n",
       "\n",
       "       [[ 0.        ,  0.50627615],\n",
       "        [ 0.        ,  0.90376569]],\n",
       "\n",
       "       [[ 0.        ,  0.17573222],\n",
       "        [ 0.        ,  0.17573222]]])"
      ]
     },
     "execution_count": 5,
     "metadata": {},
     "output_type": "execute_result"
    }
   ],
   "source": [
    "xData"
   ]
  },
  {
   "cell_type": "code",
   "execution_count": 10,
   "metadata": {},
   "outputs": [
    {
     "data": {
      "text/plain": [
       "array([[[ 0.        ,  0.77405858],\n",
       "        [ 0.        ,  0.29707113]],\n",
       "\n",
       "       [[ 0.        ,  0.16317992],\n",
       "        [ 0.        ,  0.82008368]],\n",
       "\n",
       "       [[ 0.        ,  0.29707113],\n",
       "        [ 0.        ,  0.82008368]],\n",
       "\n",
       "       ..., \n",
       "       [[ 0.        ,  0.50627615],\n",
       "        [ 0.        ,  0.90376569]],\n",
       "\n",
       "       [[ 0.        ,  0.17573222],\n",
       "        [ 0.        ,  0.17573222]],\n",
       "\n",
       "       [[ 0.        ,  0.90376569],\n",
       "        [ 0.        ,  0.87029289]]])"
      ]
     },
     "execution_count": 10,
     "metadata": {},
     "output_type": "execute_result"
    }
   ],
   "source": [
    "yData"
   ]
  },
  {
   "cell_type": "code",
   "execution_count": 21,
   "metadata": {},
   "outputs": [
    {
     "data": {
      "text/plain": [
       "numpy.float64"
      ]
     },
     "execution_count": 21,
     "metadata": {},
     "output_type": "execute_result"
    }
   ],
   "source": [
    "type(xData[0][0][0])"
   ]
  },
  {
   "cell_type": "code",
   "execution_count": 31,
   "metadata": {},
   "outputs": [],
   "source": [
    "def build_dataset(lines, rhyme_list):\n",
    "\tdataset = []\n",
    "\tline_list = []\n",
    "\tfor line in lines:\n",
    "\t\tline_list = [line, syllables(line), ryhmeIndex(line, rhyme_list)]\n",
    "\t\tdataset.append(line_list)\n",
    "\t\n",
    "\tx_data = []\n",
    "\ty_data = []\n",
    "\t\n",
    "\tfor i in range(len(dataset) - 3):\n",
    "\t\tline1 = dataset[i    ][1:]\n",
    "\t\tline2 = dataset[i + 1][1:]\n",
    "\t\tline3 = dataset[i + 2][1:]\n",
    "\t\tline4 = dataset[i + 3][1:]\n",
    "\n",
    "\t\tx = [line1[0], line1[1], line2[0], line2[1]]\n",
    "\t\tx = np.array(x)\n",
    "\t\tx = x.reshape(2,2)\n",
    "\t\tx_data.append(x)\n",
    "\n",
    "\t\ty = [line3[0], line3[1], line4[0], line4[1]]\n",
    "\t\ty = np.array(y)\n",
    "\t\ty = y.reshape(2,2)\n",
    "\t\ty_data.append(y)\n",
    "\t\t\n",
    "\tx_data = np.array(x_data)\n",
    "\ty_data = np.array(y_data)\n",
    "\t\n",
    "\t#print \"x shape \" + str(x_data.shape)\n",
    "\t#print \"y shape \" + str(y_data.shape)\n",
    "\treturn x_data, y_data"
   ]
  },
  {
   "cell_type": "code",
   "execution_count": 22,
   "metadata": {},
   "outputs": [],
   "source": [
    "def train(x_data, y_data, model):\n",
    "    model.fit(x_data, y_data,\n",
    "              batch_size=2,\n",
    "              epochs=5,\n",
    "              verbose=1)\n",
    "    model.save_weights(MODELFILE)"
   ]
  },
  {
   "cell_type": "code",
   "execution_count": 6,
   "metadata": {},
   "outputs": [
    {
     "name": "stdout",
     "output_type": "stream",
     "text": [
      "Epoch 1/10\n",
      "6188/6188 [==============================] - 28s 5ms/step - loss: 0.0624\n",
      "Epoch 2/10\n",
      "6188/6188 [==============================] - 23s 4ms/step - loss: 0.0551\n",
      "Epoch 3/10\n",
      "6188/6188 [==============================] - 23s 4ms/step - loss: 0.0545\n",
      "Epoch 4/10\n",
      "6188/6188 [==============================] - 24s 4ms/step - loss: 0.0544\n",
      "Epoch 5/10\n",
      "6188/6188 [==============================] - 24s 4ms/step - loss: 0.0544\n",
      "Epoch 6/10\n",
      "6188/6188 [==============================] - 25s 4ms/step - loss: 0.0544\n",
      "Epoch 7/10\n",
      "6188/6188 [==============================] - 25s 4ms/step - loss: 0.0544\n",
      "Epoch 8/10\n",
      "6188/6188 [==============================] - 25s 4ms/step - loss: 0.0544\n",
      "Epoch 9/10\n",
      "6188/6188 [==============================] - 24s 4ms/step - loss: 0.0544\n",
      "Epoch 10/10\n",
      "6188/6188 [==============================] - 24s 4ms/step - loss: 0.0545\n"
     ]
    }
   ],
   "source": [
    "train(xData, yData, model)\n"
   ]
  },
  {
   "cell_type": "code",
   "execution_count": 36,
   "metadata": {},
   "outputs": [
    {
     "data": {
      "text/plain": [
       "0"
      ]
     },
     "execution_count": 36,
     "metadata": {},
     "output_type": "execute_result"
    }
   ],
   "source": [
    "syllables(\"Most rappers' taste level ain't at my waist level\")ryhmeIndex(bar, rhymes)"
   ]
  },
  {
   "cell_type": "code",
   "execution_count": 37,
   "metadata": {},
   "outputs": [
    {
     "data": {
      "text/plain": [
       "0.41841004184100417"
      ]
     },
     "execution_count": 37,
     "metadata": {},
     "output_type": "execute_result"
    }
   ],
   "source": [
    "ryhmeIndex(\"Most rappers' taste level ain't at my waist level\", rhymes)"
   ]
  },
  {
   "cell_type": "code",
   "execution_count": 38,
   "metadata": {},
   "outputs": [],
   "source": [
    "def create_network(depth):\n",
    "\tmodel = Sequential()\n",
    "\tmodel.add(LSTM(4, input_shape=(2, 2), return_sequences=True))\n",
    "\tfor i in range(depth):\n",
    "\t\tmodel.add(LSTM(8, return_sequences=True))\n",
    "\tmodel.add(LSTM(2, return_sequences=True))\n",
    "\tmodel.summary()\n",
    "\tmodel.compile(optimizer='rmsprop',\n",
    "              loss='mse')\n",
    "\n",
    "\treturn model"
   ]
  },
  {
   "cell_type": "code",
   "execution_count": 40,
   "metadata": {},
   "outputs": [
    {
     "name": "stdout",
     "output_type": "stream",
     "text": [
      "_________________________________________________________________\n",
      "Layer (type)                 Output Shape              Param #   \n",
      "=================================================================\n",
      "lstm_7 (LSTM)                (None, 2, 4)              112       \n",
      "_________________________________________________________________\n",
      "lstm_8 (LSTM)                (None, 2, 8)              416       \n",
      "_________________________________________________________________\n",
      "lstm_9 (LSTM)                (None, 2, 8)              544       \n",
      "_________________________________________________________________\n",
      "lstm_10 (LSTM)               (None, 2, 8)              544       \n",
      "_________________________________________________________________\n",
      "lstm_11 (LSTM)               (None, 2, 8)              544       \n",
      "_________________________________________________________________\n",
      "lstm_12 (LSTM)               (None, 2, 2)              88        \n",
      "=================================================================\n",
      "Total params: 2,248\n",
      "Trainable params: 2,248\n",
      "Non-trainable params: 0\n",
      "_________________________________________________________________\n"
     ]
    }
   ],
   "source": [
    "m = create_network(4)"
   ]
  },
  {
   "cell_type": "code",
   "execution_count": 41,
   "metadata": {},
   "outputs": [
    {
     "name": "stdout",
     "output_type": "stream",
     "text": [
      "Epoch 1/5\n",
      "6188/6188 [==============================] - 29s 5ms/step - loss: nan\n",
      "Epoch 2/5\n",
      "6188/6188 [==============================] - 24s 4ms/step - loss: nan\n",
      "Epoch 3/5\n",
      "6188/6188 [==============================] - 23s 4ms/step - loss: nan\n",
      "Epoch 4/5\n",
      "6188/6188 [==============================] - 26s 4ms/step - loss: nan\n",
      "Epoch 5/5\n",
      "6188/6188 [==============================] - 26s 4ms/step - loss: nan\n"
     ]
    }
   ],
   "source": [
    "train(xData, yData, m)"
   ]
  }
 ],
 "metadata": {
  "kernelspec": {
   "display_name": "Python 2",
   "language": "python",
   "name": "python2"
  },
  "language_info": {
   "codemirror_mode": {
    "name": "ipython",
    "version": 2
   },
   "file_extension": ".py",
   "mimetype": "text/x-python",
   "name": "python",
   "nbconvert_exporter": "python",
   "pygments_lexer": "ipython2",
   "version": "2.7.10"
  }
 },
 "nbformat": 4,
 "nbformat_minor": 2
}
